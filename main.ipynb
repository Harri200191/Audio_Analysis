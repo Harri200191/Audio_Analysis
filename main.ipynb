{
 "cells": [
  {
   "cell_type": "code",
   "execution_count": 1,
   "metadata": {},
   "outputs": [],
   "source": [
    "import torch\n",
    "import pandas as pd\n",
    "import numpy as np\n",
    "import matplotlib.pyplot as plt\n",
    "import seaborn as sns\n",
    "import tkinter as tk\n",
    "from tkinter import filedialog\n",
    "\n",
    "sns.set()"
   ]
  },
  {
   "cell_type": "code",
   "execution_count": 3,
   "metadata": {},
   "outputs": [],
   "source": [
    "def select_audio_file():\n",
    "    root = tk.Tk()\n",
    "    root.withdraw()  \n",
    " \n",
    "    audio_file_path = filedialog.askopenfilename(\n",
    "        title=\"Select an audio file\",\n",
    "        filetypes=[(\"Audio Files\", \"*.mp3 *.wav *.flac *.ogg *.m4a\")]\n",
    "    )\n",
    "\n",
    "    if audio_file_path:\n",
    "        return audio_file_path\n",
    "    else:\n",
    "        return None"
   ]
  },
  {
   "cell_type": "code",
   "execution_count": 4,
   "metadata": {},
   "outputs": [],
   "source": [
    "selected_audio_file = select_audio_file()\n",
    "\n",
    "if selected_audio_file:\n",
    "    print(f\"Selected audio file: {selected_audio_file}\")\n",
    "else:\n",
    "    print(\"No audio file selected.\")"
   ]
  },
  {
   "cell_type": "code",
   "execution_count": 4,
   "metadata": {},
   "outputs": [],
   "source": [
    "audio_file_path = filedialog.askopenfilename(\n",
    "    title=\"Select an audio file\",\n",
    "    filetypes=[(\"Audio Files\", \"*.mp3 *.wav *.flac *.ogg *.m4a\")]\n",
    ")"
   ]
  },
  {
   "cell_type": "code",
   "execution_count": null,
   "metadata": {},
   "outputs": [],
   "source": []
  }
 ],
 "metadata": {
  "kernelspec": {
   "display_name": "Python 3",
   "language": "python",
   "name": "python3"
  },
  "language_info": {
   "codemirror_mode": {
    "name": "ipython",
    "version": 3
   },
   "file_extension": ".py",
   "mimetype": "text/x-python",
   "name": "python",
   "nbconvert_exporter": "python",
   "pygments_lexer": "ipython3",
   "version": "3.11.4"
  },
  "orig_nbformat": 4
 },
 "nbformat": 4,
 "nbformat_minor": 2
}

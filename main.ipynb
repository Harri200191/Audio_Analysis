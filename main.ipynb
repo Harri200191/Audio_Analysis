{
 "cells": [
  {
   "cell_type": "code",
   "execution_count": 5,
   "metadata": {},
   "outputs": [],
   "source": [
    "import torch\n",
    "import pandas as pd\n",
    "import numpy as np\n",
    "import matplotlib.pyplot as plt\n",
    "import seaborn as sns\n",
    "import tkinter as tk\n",
    "from tkinter import filedialog\n",
    "import easygui\n",
    "import speech_recognition as sr\n",
    "\n",
    "sns.set()"
   ]
  },
  {
   "cell_type": "code",
   "execution_count": 3,
   "metadata": {},
   "outputs": [],
   "source": [
    "def convert_audio_to_text(audio_file):\n",
    "    recognizer = sr.Recognizer()\n",
    "\n",
    "    with sr.AudioFile(audio_file) as source:\n",
    "        audio = recognizer.record(source)  # Read the entire audio file\n",
    "    try:\n",
    "        text = recognizer.recognize_google(audio)  # Use Google Web Speech API for recognition\n",
    "        return text\n",
    "    except sr.UnknownValueError:\n",
    "        return \"Google Web Speech API could not understand the audio\"\n",
    "    except sr.RequestError as e:\n",
    "        return f\"Could not request results from Google Web Speech API; {e}\""
   ]
  },
  {
   "cell_type": "code",
   "execution_count": null,
   "metadata": {},
   "outputs": [],
   "source": [
    "audio_file = \"your_audio_file.mp3\" \n",
    "text = convert_audio_to_text(audio_file)\n",
    "\n",
    "if text:\n",
    "    print(\"Transcription:\")\n",
    "    print(text)\n",
    "else:\n",
    "    print(\"No text could be transcribed.\")"
   ]
  }
 ],
 "metadata": {
  "kernelspec": {
   "display_name": "Python 3",
   "language": "python",
   "name": "python3"
  },
  "language_info": {
   "codemirror_mode": {
    "name": "ipython",
    "version": 3
   },
   "file_extension": ".py",
   "mimetype": "text/x-python",
   "name": "python",
   "nbconvert_exporter": "python",
   "pygments_lexer": "ipython3",
   "version": "3.11.4"
  },
  "orig_nbformat": 4
 },
 "nbformat": 4,
 "nbformat_minor": 2
}
